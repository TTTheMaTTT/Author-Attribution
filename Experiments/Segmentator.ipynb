{
 "cells": [
  {
   "cell_type": "code",
   "execution_count": 1,
   "metadata": {},
   "outputs": [],
   "source": [
    "import os\n",
    "import re\n",
    "import collections"
   ]
  },
  {
   "cell_type": "code",
   "execution_count": 9,
   "metadata": {},
   "outputs": [],
   "source": [
    "startdir = '/home/matvey/Works/CorpusLinquistic/newTexts/'\n",
    "all_path = []\n",
    "for d, di, files in os.walk(startdir):\n",
    "    for f in files:\n",
    "        all_path.append(os.path.join(d, f))"
   ]
  },
  {
   "cell_type": "code",
   "execution_count": 3,
   "metadata": {},
   "outputs": [],
   "source": [
    "allLetters=\"qwertyuiopasdfghjklzxcvbnmQWERTYUIOPASDFGHJKLZXCVBNMёйцукенгшщзхъфывапролджэячсмитьбюЁЙЦУКЕНГШЩЗХЪФЫВАПРОЛДЖЭЯЧСМИТЬБЮ\"\n",
    "letters=[]\n",
    "for c in allLetters:\n",
    "    letters.append(c)"
   ]
  },
  {
   "cell_type": "code",
   "execution_count": 11,
   "metadata": {},
   "outputs": [],
   "source": [
    "def makeSentences(filename):   \n",
    "    \"\"\"Функция, разбивающая тексты на предложения\"\"\"\n",
    "    \n",
    "    number_of_sentences = 0\n",
    "    poem = open(filename, \"r\", encoding='utf-8')\n",
    "    text=\"\"\n",
    "    try:\n",
    "        text=poem.read()\n",
    "    except UnicodeDecodeError:\n",
    "        poem.close()\n",
    "        poem=open(path, 'r')\n",
    "        text = poem.read()\n",
    "    lines = text.splitlines()\n",
    "    \n",
    "    sentences=[]\n",
    "    sentence=\"\"\n",
    "    for line in lines:\n",
    "        if \"<\" in line or len(line) <= 1:\n",
    "            continue\n",
    "        if line[0] == \"(\" and line[1] in [\"0\", \"1\", \"2\", \"3\", \"4\", \"5\", \"6\", \"7\", \"8\", \"9\"]:\n",
    "            continue\n",
    "        if len(line) > 130:\n",
    "            continue\n",
    "            \n",
    "        spliter = [\".\", \"!\", \"?\",\"…\"]\n",
    "        for i in range(len(line) - 1):\n",
    "            if line[i] not in spliter:\n",
    "                sentence+=line[i]\n",
    "            if line[i + 1] in spliter and line[i] not in spliter:\n",
    "                \n",
    "# Если у нас стоит точка, это ещё не значит, что мы имеем дело с концом предложения.\n",
    "# Но если рассматриваемая строка начинается с маленькой буквы - не пытаемся рассматривать на наличие сокращений.\n",
    "                if line[i+1]==\".\" and line[0]==line[0].upper:\n",
    "                    isAbbrev=False\n",
    "                    for j in range(len(line)-i-2):\n",
    "                        if line[i+1+j] in letters:\n",
    "#Считаем, что если после точки идёт слово с маленькой буквы или однобуквенное слово с большой, то мы имеем дело с сокращением,\n",
    "# а не с концом предложения\n",
    "                            if line[i+1+j]!=line[i+1+j].upper or line[i+1+j]=='.':\n",
    "                                notAbbrev=True\n",
    "                            break\n",
    "                    if isAbbrev:\n",
    "                        sentence+=line[i+1]\n",
    "                        continue\n",
    "                sentences.append(sentence)\n",
    "                number_of_sentences += 1\n",
    "                sentence=\"\"\n",
    "    \n",
    "    print(sentences)            \n",
    "    poem.close()"
   ]
  },
  {
   "cell_type": "code",
   "execution_count": 14,
   "metadata": {},
   "outputs": [
    {
     "name": "stdout",
     "output_type": "stream",
     "text": [
      "<author=\"Змагарка\" nick=\"belka35\">\n",
      "<div poem id=\"692215\" url=\"http://stihi.ru/2010/12/28/1802\">\n",
      " \n",
      "Бесполезное начало спора и решений \n",
      "внутри единого целого мертвого \n",
      "переплетаются ветви эмоций и и разума \n",
      "бесконтрольное действие, требующее результата. \n",
      "* \n",
      "Танцующие огоньки над свечой хлоднокровия \n",
      "противоречие бесконечно там,где нет памяти \n",
      "Остановится хочется.чтобы след мысли впечатался \n",
      "в глыбе иммортной скандальной иллюзии. \n",
      "* \n",
      "А потом бежать.бежать и разбиться \n",
      "на мелкие части \n",
      "Пусть каждая из них обретет свою жизнь и пагубный смысл \n",
      "Пройдет по руинам времени и неизбежным функциям \n",
      "Изучит все стороны наступившего одиночества \n",
      "И сойдется во мне, в мое единое целое.... \n",
      "</div>\n",
      "\n"
     ]
    }
   ],
   "source": [
    "with open(all_path[1],'r',encoding='utf-8') as r:\n",
    "    print(r.read())"
   ]
  },
  {
   "cell_type": "code",
   "execution_count": 13,
   "metadata": {},
   "outputs": [
    {
     "name": "stdout",
     "output_type": "stream",
     "text": [
      "['Бесполезное начало спора и решенийвнутри единого целого мертвогопереплетаются ветви эмоций и и разумабесконтрольное действие, требующее результата', '*Танцующие огоньки над свечой хлоднокровияпротиворечие бесконечно там,где нет памятиОстановится хочется', 'чтобы след мысли впечаталсяв глыбе иммортной скандальной иллюзии', '*А потом бежать', 'бежать и разбитьсяна мелкие частиПусть каждая из них обретет свою жизнь и пагубный смыслПройдет по руинам времени и неизбежным функциямИзучит все стороны наступившего одиночестваИ сойдется во мне, в мое единое целое']\n"
     ]
    }
   ],
   "source": [
    "makeSentences(all_path[1])"
   ]
  }
 ],
 "metadata": {
  "kernelspec": {
   "display_name": "Python 3",
   "language": "python",
   "name": "python3"
  },
  "language_info": {
   "codemirror_mode": {
    "name": "ipython",
    "version": 3
   },
   "file_extension": ".py",
   "mimetype": "text/x-python",
   "name": "python",
   "nbconvert_exporter": "python",
   "pygments_lexer": "ipython3",
   "version": "3.6.3"
  }
 },
 "nbformat": 4,
 "nbformat_minor": 2
}
